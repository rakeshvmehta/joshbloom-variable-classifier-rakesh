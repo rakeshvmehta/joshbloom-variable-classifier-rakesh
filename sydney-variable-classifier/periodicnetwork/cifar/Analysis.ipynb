{
 "cells": [
  {
   "cell_type": "code",
   "execution_count": 2,
   "metadata": {},
   "outputs": [
    {
     "ename": "ModuleNotFoundError",
     "evalue": "No module named 'matplotlib'",
     "output_type": "error",
     "traceback": [
      "\u001b[0;31m---------------------------------------------------------------------------\u001b[0m",
      "\u001b[0;31mModuleNotFoundError\u001b[0m                       Traceback (most recent call last)",
      "\u001b[0;32m<ipython-input-2-2422ca4a6ed6>\u001b[0m in \u001b[0;36m<module>\u001b[0;34m\u001b[0m\n\u001b[1;32m      1\u001b[0m \u001b[0;32mimport\u001b[0m \u001b[0mnumpy\u001b[0m \u001b[0;32mas\u001b[0m \u001b[0mnp\u001b[0m\u001b[0;34m\u001b[0m\u001b[0;34m\u001b[0m\u001b[0m\n\u001b[0;32m----> 2\u001b[0;31m \u001b[0;32mimport\u001b[0m \u001b[0mmatplotlib\u001b[0m\u001b[0;34m.\u001b[0m\u001b[0mpyplot\u001b[0m \u001b[0;32mas\u001b[0m \u001b[0mplt\u001b[0m\u001b[0;34m\u001b[0m\u001b[0;34m\u001b[0m\u001b[0m\n\u001b[0m\u001b[1;32m      3\u001b[0m \u001b[0;32mimport\u001b[0m \u001b[0mpandas\u001b[0m \u001b[0;32mas\u001b[0m \u001b[0mpd\u001b[0m\u001b[0;34m\u001b[0m\u001b[0;34m\u001b[0m\u001b[0m\n",
      "\u001b[0;31mModuleNotFoundError\u001b[0m: No module named 'matplotlib'"
     ]
    }
   ],
   "source": [
    "import numpy as np\n",
    "import matplotlib.pyplot as plt\n",
    "import pandas as pd"
   ]
  },
  {
   "cell_type": "code",
   "execution_count": null,
   "metadata": {},
   "outputs": [],
   "source": [
    "ind2label = {0: 'Cep', 1: 'Cep_1', 2: 'Cep_12', 3: 'Cep_2', 4: 'Cep_F', 5: 'Cep_F1', 6: 'DCep', 7: 'DPV', 8: 'DSCT', 9: 'DSCT_F1', 10: 'DSCT_S', 11: 'LPV', 12: 'LPV_Mira', 13: 'LPV_OSARG', 14: 'LPV_SRV', 15: 'RRLyr', 16: 'RRLyr_RRab', 17: 'RRLyr_RRc', 18: 'RRLyr_RRd', 19: 'RRLyr_RRe', 20: 'T2Cep', 21: 'T2Cep_BLHer', 22: 'T2Cep_RVTau', 23: 'T2Cep_WVir', 24: 'VAR', 25: 'aCep', 26: 'aCep_F', 27: 'eclipsing', 28: 'mCep', 29: 'pulsating'}\n",
    "#ogle new data, used labels\n",
    "ind2label2 = {0: 'Cep_1', 1: 'Cep_12', 2: 'Cep_2', 3: 'Cep_F', 4: 'Cep_F1', 5: 'DPV', 6: 'DSCT_F1', 7: 'DSCT_S', 8: 'LPV_Mira', 9: 'LPV_OSARG', 10: 'LPV_SRV', 11: 'RRLyr_RRab', 12: 'RRLyr_RRc', 13: 'RRLyr_RRd', 14: 'RRLyr_RRe', 15: 'T2Cep_BLHer', 16: 'T2Cep_RVTau', 17: 'T2Cep_WVir', 18: 'aCep_F'}\n",
    "def cm(predtruth, seperator, labels='all'):\n",
    "    pred, truth = [], []\n",
    "    for i in predtruth[0][:seperator][0]:\n",
    "        for j in i: \n",
    "            if labels=='used':\n",
    "                pred.append(ind2label2[j])\n",
    "            else:\n",
    "                pred.append(ind2label[j])\n",
    "    for i in predtruth[0][seperator:seperator+1][0]:\n",
    "        for j in i: \n",
    "            if labels=='used':\n",
    "                truth.append(ind2label2[j])\n",
    "            else:\n",
    "                truth.append(ind2label[j])\n",
    "    y_actu = pd.Series(truth, name='Actual')\n",
    "    y_pred = pd.Series(pred, name='Predicted')\n",
    "    return pd.crosstab(y_actu, y_pred, normalize='index')\n",
    "\n",
    "def plot_confusion_matrix(df_confusion, title='Confusion matrix', cmap=plt.cm.gray_r):\n",
    "    plt.matshow(df_confusion, cmap=cmap) # imshow\n",
    "    #plt.title(title)\n",
    "    plt.colorbar()\n",
    "    tick_marks = np.arange(len(df_confusion.columns))\n",
    "    plt.xticks(tick_marks, df_confusion.columns, rotation=45)\n",
    "    plt.yticks(tick_marks, df_confusion.index)\n",
    "    #plt.tight_layout()\n",
    "    plt.ylabel(df_confusion.index.name)\n",
    "    plt.xlabel(df_confusion.columns.name)\n",
    "\n",
    "def make_table(eval):\n",
    "    tanimoto, heights, pathlengths, similarities, true_similarities = eval[0][:8],eval[0][8:16],eval[0][16:24],eval[0][24:32],eval[0][32:40]\n",
    "    metric = ['tanimoto','height','pathlength','similarity','true_similarity']\n",
    "    data = [tanimoto, heights, pathlengths, similarities, true_similarities]\n",
    "    data = np.asarray(data).reshape((5,8))\n",
    "    df=pd.DataFrame(columns=['mean', 'med', 'min','max','1','5','95','99'], data=data)\n",
    "    df.insert(loc=0, column='metric', value=metric)\n",
    "    return df\n",
    "\n",
    "from collections import OrderedDict\n",
    "def find_sims(probs, truth, alllabels=True, cos=False):\n",
    "    label2int, int2label, unique_labels = {}, {}, OrderedDict()\n",
    "    with open('data/ogle_class_names.txt') as class_list:\n",
    "    for c in class_list:  \n",
    "        num, classname = c.strip().split()\n",
    "        label2int[classname] = int(num) \n",
    "        int2label[int(num)] = classname\n",
    "        unique_labels[classname] = None \n",
    "    with open('data/ogle.unitsphere.pickle', 'rb') as pf:\n",
    "        embedding = pickle.load(pf)\n",
    "        linear_labels = embedding['label2ind'] \n",
    "        embed_labels = embedding['ind2label']\n",
    "        embedding = embedding['embedding']\n",
    "\n",
    "unique_label, count = np.unique(list(unique_labels.keys()), return_counts=True) \n",
    "convert_label = dict(zip(unique_label, np.arange(len(unique_label))))\n",
    "convert_emb2ind = lambda i: convert_label[int2label[embed_labels[i]]] \n",
    "i2l = ind2label if alllabels else ind2label2\n",
    "\n",
    "def find_similarity(prediction, ground_truth): \n",
    "    return np.matmul(embedding[linear_labels[label2int[i2l[prediction]]]].T,embedding[linear_labels[label2int[i2l[ground_truth]]]])\n",
    "\n",
    "sim_list = []\n",
    "for p in range(len(probs)):\n",
    "    all_sims = [] \n",
    "    for i in range(len(probs[p])):\n",
    "        max_index, max_value = max(enumerate(probs[p]), key=lambda pair: pair[1])\n",
    "        probs[p][max_index] = -1\n",
    "        if cos: \n",
    "            pre = convert_emb2ind(max_index)\n",
    "        else: \n",
    "            pre = max_index\n",
    "        sim = find_similarity(pre, truth[p])\n",
    "        all_sims.append(sim)\n",
    "    sim_list.append(all_sims)\n",
    "    mean_sim = np.mean(sim_list, axis=0)\n",
    "    return mean_sim"
   ]
  },
  {
   "cell_type": "code",
   "execution_count": 3,
   "metadata": {},
   "outputs": [],
   "source": [
    "h_pred = np.load('results_pred.npy', allow_pickle=True)\n",
    "h_truth = np.load('results_truth.npy', allow_pickle=True)"
   ]
  },
  {
   "cell_type": "code",
   "execution_count": 4,
   "metadata": {},
   "outputs": [
    {
     "data": {
      "text/plain": [
       "array([ 15,  36,  18, 101,  89,  91, 113,  19, 118,  84,  94, 110,  39,\n",
       "       114,  35,   7,  53,  70,  89,  19,  98,  54,  97,  26,  31, 114,\n",
       "        88, 114,  15,  47, 118,  29,  68, 114,  35,  29,  94,  89,  17,\n",
       "        80,  53,  80,  31,  57, 101,  32,  68,  44,  94,  15,  94,  68,\n",
       "        19,  81,  66,  68,  35,  98,  98,  44,  38,  19,  61,  73])"
      ]
     },
     "execution_count": 4,
     "metadata": {},
     "output_type": "execute_result"
    }
   ],
   "source": [
    "h_pred"
   ]
  },
  {
   "cell_type": "code",
   "execution_count": null,
   "metadata": {},
   "outputs": [],
   "source": [
    "h_df_confusion = cm(h_predtruth, 1)"
   ]
  },
  {
   "cell_type": "code",
   "execution_count": null,
   "metadata": {},
   "outputs": [],
   "source": [
    "fig, (ax1) = plt.subplots(1,1,figsize=(23,7))\n",
    "g1 = sn.heatmap(h_df_confusion, annot=True)\n",
    "ax1.set_title(\"New Loss, Hidden\")\n",
    "plt.show()"
   ]
  }
 ],
 "metadata": {
  "kernelspec": {
   "display_name": "Python 3",
   "language": "python",
   "name": "python3"
  },
  "language_info": {
   "codemirror_mode": {
    "name": "ipython",
    "version": 3
   },
   "file_extension": ".py",
   "mimetype": "text/x-python",
   "name": "python",
   "nbconvert_exporter": "python",
   "pygments_lexer": "ipython3",
   "version": "3.6.8"
  }
 },
 "nbformat": 4,
 "nbformat_minor": 4
}
