{
 "cells": [
  {
   "cell_type": "code",
   "execution_count": 1,
   "metadata": {},
   "outputs": [],
   "source": [
    "import sys\n",
    "import numpy as np\n",
    "import scipy.linalg, scipy.spatial.distance\n",
    "\n",
    "import time\n",
    "import argparse\n",
    "import pickle\n",
    "from collections import OrderedDict\n",
    "\n",
    "from class_hierarchy import ClassHierarchy"
   ]
  },
  {
   "cell_type": "code",
   "execution_count": 2,
   "metadata": {},
   "outputs": [],
   "source": [
    "def unitsphere_embedding(class_sim):\n",
    "    \"\"\"\n",
    "    Finds an embedding of `n` classes on a unit sphere in `n`-dimensional space, so that their dot products correspond\n",
    "    to pre-defined similarities.\n",
    "    \n",
    "    class_sim - `n-by-n` matrix specifying the desired similarity between each pair of classes.\n",
    "    \n",
    "    Returns: `n-by-n` matrix with rows being the locations of the corresponding classes in the embedding space.\n",
    "    \"\"\"\n",
    "    \n",
    "    # Check arguments\n",
    "    if (class_sim.ndim != 2) or (class_sim.shape[0] != class_sim.shape[1]):\n",
    "        raise ValueError('Given class_sim has invalid shape. Expected: (n, n). Got: {}'.format(class_sim.shape))\n",
    "    if (class_sim.shape[0] == 0):\n",
    "        raise ValueError('Empty class_sim given.')\n",
    "    \n",
    "    # Place first class\n",
    "    nc = class_sim.shape[0]\n",
    "    embeddings = np.zeros((nc, nc))\n",
    "    embeddings[0,0] = 1.\n",
    "    \n",
    "    # Iteratively place all remaining classes\n",
    "    for c in range(1, nc):\n",
    "        embeddings[c, :c] = np.linalg.solve(embeddings[:c, :c], class_sim[c, :c])\n",
    "        embeddings[c, c] = np.sqrt(1. - np.sum(embeddings[c, :c] ** 2))\n",
    "    \n",
    "    return embeddings"
   ]
  },
  {
   "cell_type": "code",
   "execution_count": 3,
   "metadata": {},
   "outputs": [],
   "source": [
    "    # Read hierarchy\n",
    "    id_type=str\n",
    "    hierarchy = ClassHierarchy.from_file('Cifar-Hierarchy/variability.parent-child.txt', is_a_relations = False, id_type=id_type)\n",
    "    class_list = None#'Cifar-Hierarchy/leaf_class_names.txt'\n",
    "    # Determine target classes\n",
    "    if class_list is not None:\n",
    "        with open(class_list) as class_file:\n",
    "            unique_labels = list(OrderedDict((id_type(l.strip().split()[0]), None) for l in class_file if l.strip() != '').keys())\n",
    "    else:\n",
    "        unique_labels = [lbl for lbl in hierarchy.nodes]# if (lbl not in hierarchy.children) or (len(hierarchy.children[lbl]) == 0)]\n",
    "        unique_labels.sort()\n",
    "    linear_labels = { lbl : i for i, lbl in enumerate(unique_labels) }\n",
    "    \n",
    "    # Compute target distances between classes\n",
    "    sem_class_dist = np.zeros((len(unique_labels), len(unique_labels))) \n",
    "    for i in range(len(unique_labels)):\n",
    "        for j in range(i + 1, len(unique_labels)):\n",
    "            sem_class_dist[i,j] = sem_class_dist[j,i] = hierarchy.metric2(unique_labels[i], unique_labels[j])#lcs_height(unique_labels[i], unique_labels[j])\n",
    "    \n",
    "    # Compute class embeddings\n",
    "    embedding = unitsphere_embedding(1. - sem_class_dist)"
   ]
  },
  {
   "cell_type": "code",
   "execution_count": 4,
   "metadata": {},
   "outputs": [],
   "source": [
    "convert = {}\n",
    "with open('Cifar-Hierarchy/class_names.txt') as conversion: \n",
    "    for conv in conversion: \n",
    "        num, classname = conv.strip().split()\n",
    "        convert[classname] = num"
   ]
  },
  {
   "cell_type": "code",
   "execution_count": 7,
   "metadata": {},
   "outputs": [
    {
     "name": "stdout",
     "output_type": "stream",
     "text": [
      "Similarity: 0.800000\n"
     ]
    }
   ],
   "source": [
    "#Compute similarity\n",
    "i = 'FU'\n",
    "j = 'eruptive'\n",
    "if class_list is not None: \n",
    "    sim = np.matmul(embedding[linear_labels[i]].T,embedding[linear_labels[j]])\n",
    "else:\n",
    "    sim = np.matmul(embedding[linear_labels[convert[i]]].T,embedding[linear_labels[convert[j]]])\n",
    "print(\"Similarity: %f\" % (sim))"
   ]
  },
  {
   "cell_type": "code",
   "execution_count": null,
   "metadata": {},
   "outputs": [],
   "source": [
    "'''Hierarchy snippet for testing purposes: \n",
    "variable\n",
    "-- intrinsic\n",
    "---- AGN\n",
    "---- in_stars\n",
    "------ eruptive\n",
    "-------- UV_ceti\n",
    "-------- RS_CVn \n",
    "-------- RCB\n",
    "-------- FU\n",
    "-------- LBV\n",
    "-------- WR\n",
    "-------- GCAS'''"
   ]
  }
 ],
 "metadata": {
  "kernelspec": {
   "display_name": "Python 3",
   "language": "python",
   "name": "python3"
  },
  "language_info": {
   "codemirror_mode": {
    "name": "ipython",
    "version": 3
   },
   "file_extension": ".py",
   "mimetype": "text/x-python",
   "name": "python",
   "nbconvert_exporter": "python",
   "pygments_lexer": "ipython3",
   "version": "3.6.4"
  }
 },
 "nbformat": 4,
 "nbformat_minor": 2
}
